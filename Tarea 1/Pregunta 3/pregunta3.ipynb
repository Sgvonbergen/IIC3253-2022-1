{
 "cells": [
  {
   "cell_type": "markdown",
   "id": "d97eb197",
   "metadata": {},
   "source": [
    "## Tarea 1 Pregunta 3\n",
    "\n",
    "# Node\n",
    "Definiremos un arbol binario, en particular un arbol de Merkle. Para esto creamos una clase Node que permite almacenar las relaciones de padre e hijo, su posicion respecto a su hermano, ademas del valor del hash en ese nodo."
   ]
  },
  {
   "cell_type": "code",
   "execution_count": 48,
   "id": "9cd1bc00",
   "metadata": {},
   "outputs": [],
   "source": [
    "class Node:\n",
    "\n",
    "    def __init__(self, string: str):\n",
    "        self.string = string\n",
    "        self.parent = None\n",
    "        self.left_child = None\n",
    "        self.right_child = None\n",
    "        self.side = \"\"\n",
    "    \n",
    "    def setParent(self, parent, side) -> bool:\n",
    "        if self.parent == None:\n",
    "            self.parent = parent\n",
    "            self.side = side\n",
    "            return True\n",
    "        else:\n",
    "            return False\n",
    "    \n",
    "    def setChild(self, child, side) -> bool:\n",
    "        if side == \"i\" and self.left_child == None:\n",
    "            self.left_child = child\n",
    "            return True\n",
    "        elif side == \"d\" and self.right_child == None:\n",
    "            self.right_child = child\n",
    "            return True\n",
    "        return False\n",
    "    \n",
    "    def getCopy(self):\n",
    "        return Node(self.string)\n"
   ]
  },
  {
   "cell_type": "markdown",
   "id": "a66bdd21",
   "metadata": {},
   "source": [
    "# MerkleTree\n",
    "\n",
    "Una vez definida nuestra clase de Node, podemos pasar a definir nuesto arbol binario. El arbol de merkle recibe una lista de strings y una funcion de hash. cada una de las hojas de este arbol es el resultado de utilizar la funcion de hash en cada uno de los strings. Al subir por el arbol, el valor de cada uno de los nodos es el resultado de utilizar la funcion de hash sobre los valores de los hijos concatedados de manera ordenada. Se repite este proceso, repitiendo el ultimo nodo en cada nivel si hace falta, hasta llegar a un solo nodo que es la raiz.\n",
    "\n",
    "Dentro de esta clase de MerkleTree esta definida una funcion get_proof_for. Esta funcion, recibiendo un string que sea el valor de alguna de las hojas, entrega una lista con el valor de los hermanos de todos los padres de esa hoja hasta llegar a la raiz. Con estos valores se puede verificar que el string entregado es una de las hojas del arbol."
   ]
  },
  {
   "cell_type": "code",
   "execution_count": 49,
   "id": "0a52093b",
   "metadata": {},
   "outputs": [],
   "source": [
    "class MerkleTree:\n",
    "\n",
    "    def __init__(self, strings: list[str], hash_func: callable):\n",
    "        self.strings = strings\n",
    "        self.hash = hash_func\n",
    "        # We setup the leaves of the tree and we start linking them upwards\n",
    "        self.leaves = [Node(hash_func(s)) for s in strings]\n",
    "        nodes = self.leaves.copy()\n",
    "        while len(nodes) != 1:\n",
    "            nodes = self._setup_level(nodes)\n",
    "        self._root = nodes[0]\n",
    "    \n",
    "\n",
    "    def _setup_level(self, nodes: list[Node]) -> list[Node]:\n",
    "        if len(nodes) % 2 == 1:\n",
    "            nodes.append(nodes[-1].getCopy())\n",
    "        new_nodes = []\n",
    "        for i in range(len(nodes)):\n",
    "            if i%2 == 0:\n",
    "                n1 = nodes[i]\n",
    "                n2 = nodes[i+1]\n",
    "                new_string = self.hash(n1.string+n2.string)\n",
    "                new_node = Node(new_string)\n",
    "                n1.setParent(new_node, \"i\")\n",
    "                n2.setParent(new_node, \"d\")\n",
    "                new_node.setChild(n1, \"i\")\n",
    "                new_node.setChild(n2, \"d\")\n",
    "                new_nodes.append(new_node)\n",
    "        return new_nodes\n",
    "\n",
    "    \n",
    "    def get_root(self) -> str:\n",
    "        return self._root.string\n",
    "        \n",
    "    def get_proof_for(self, item: str) -> (None or list[str]):\n",
    "        # We check if the item is one of the leaves, otherwise we return None\n",
    "        leaf = None\n",
    "        item_hash = self.hash(item)\n",
    "        for l in self.leaves:\n",
    "            if l.string == item_hash:\n",
    "                leaf = l\n",
    "                break\n",
    "        if not leaf:\n",
    "            return None\n",
    "        # Once we have the leaf, we start constructing the proof we will return\n",
    "        proof = []\n",
    "        curr_node = leaf\n",
    "        while curr_node != self._root:\n",
    "            parent = curr_node.parent\n",
    "            if curr_node.side == \"i\":\n",
    "                sibling = parent.right_child\n",
    "            elif curr_node.side == \"d\":\n",
    "                sibling = parent.left_child\n",
    "            proof.append((sibling.string, sibling.side))\n",
    "            curr_node = parent\n",
    "        return proof\n",
    "\n",
    "        \n"
   ]
  },
  {
   "cell_type": "markdown",
   "id": "967f56c6",
   "metadata": {},
   "source": [
    "# Verify\n",
    "\n",
    "Definimos una funcion verify que recibe, un valor a probar, la raiz de un arbol Merkle, una funcion de hash y una lista de valores de forma [value, side], donde value es cualquier string y side es \"i\" o \"d\" dependiendo si es el hijo izquierdo o derecho. Con estos parmetros podemos verificar si el valor a probar es efectivamente una de las hojas del arbol. Para esto, utiliza la funcion de hash, con el valor a probar y con los valores de la lista para ir creando una linea de padres, desde la posible hoja que esta probando hasta llegar al valor de la raiz. Si este valor final es igual al valor de la raiz del arbol, entonces el valor a probar si es una de las hojas"
   ]
  },
  {
   "cell_type": "code",
   "execution_count": 50,
   "id": "b833ac4c",
   "metadata": {},
   "outputs": [],
   "source": [
    "def verify(root: str, item: str, proof, hash_func: callable) -> bool:\n",
    "    prev = hash_func(item)\n",
    "    for p, side in proof:\n",
    "        if side == \"i\":\n",
    "            new_parent = hash_func(p+prev)\n",
    "        elif side == \"d\":\n",
    "            new_parent = hash_func(prev+p)\n",
    "        prev = new_parent\n",
    "    \n",
    "    if prev == root:\n",
    "        return True\n",
    "    return False"
   ]
  },
  {
   "cell_type": "markdown",
   "id": "b41e7b46",
   "metadata": {},
   "source": [
    "# Un Ejemplo\n",
    "\n",
    "Para probar el codigo, definimos una simple funcion de hash que divide un string por la mitad y lo reordena. Además creamos un pequeño arbol de merkle de prueba. Probaremos tres casos:"
   ]
  },
  {
   "cell_type": "code",
   "execution_count": 51,
   "id": "7406b417",
   "metadata": {},
   "outputs": [],
   "source": [
    "# This hash function flips the string in the middle\n",
    "def test_hash(string: str) -> str:\n",
    "    middle = len(string)//2\n",
    "    return string[middle:] + string[0:middle]\n"
   ]
  },
  {
   "cell_type": "code",
   "execution_count": 52,
   "id": "247167cd",
   "metadata": {},
   "outputs": [],
   "source": [
    "leaves = [\"hello\", \"goodbye\", \"salutations\", \"impossible\", \"truth\", \"false\", \"boolean\"]\n",
    "MT = MerkleTree(leaves, test_hash)"
   ]
  },
  {
   "cell_type": "markdown",
   "id": "50aee451",
   "metadata": {},
   "source": [
    "Caso 1, valor (truth) es una hoja y la prueba es valida"
   ]
  },
  {
   "cell_type": "code",
   "execution_count": 53,
   "id": "abe40db7",
   "metadata": {},
   "outputs": [
    {
     "name": "stdout",
     "output_type": "stream",
     "text": [
      "True\n"
     ]
    }
   ],
   "source": [
    "is_truth_a_leaf = verify(MT.get_root(), \"truth\", MT.get_proof_for(\"truth\"), test_hash)\n",
    "print(is_truth_a_leaf)"
   ]
  },
  {
   "cell_type": "markdown",
   "id": "ac4a152f",
   "metadata": {},
   "source": [
    "Caso 2, valor (truth) es una hoja y la prueba no es valida"
   ]
  },
  {
   "cell_type": "code",
   "execution_count": 54,
   "id": "79893ae6",
   "metadata": {},
   "outputs": [
    {
     "name": "stdout",
     "output_type": "stream",
     "text": [
      "False\n"
     ]
    }
   ],
   "source": [
    "is_truth_a_leaf = verify(MT.get_root(), \"truth\", MT.get_proof_for(\"false\"), test_hash)\n",
    "print(is_truth_a_leaf)"
   ]
  },
  {
   "cell_type": "markdown",
   "id": "28f841ac",
   "metadata": {},
   "source": [
    "Caso 3, valor (truth) no es una hoja."
   ]
  },
  {
   "cell_type": "code",
   "execution_count": 55,
   "id": "a58b11ef",
   "metadata": {},
   "outputs": [
    {
     "name": "stdout",
     "output_type": "stream",
     "text": [
      "False\n"
     ]
    }
   ],
   "source": [
    "is_not_a_leaf_a_leaf = verify(MT.get_root(), \"not a leaf\", MT.get_proof_for(\"truth\"), test_hash)\n",
    "print(is_not_a_leaf_a_leaf)"
   ]
  }
 ],
 "metadata": {
  "interpreter": {
   "hash": "608fffa85707ae051ca2e77aefe04004454455bf2bdea15617f0e4d6e8d23f95"
  },
  "kernelspec": {
   "display_name": "Python 3.9.11 64-bit ('3.9.11')",
   "language": "python",
   "name": "python3"
  },
  "language_info": {
   "codemirror_mode": {
    "name": "ipython",
    "version": 3
   },
   "file_extension": ".py",
   "mimetype": "text/x-python",
   "name": "python",
   "nbconvert_exporter": "python",
   "pygments_lexer": "ipython3",
   "version": "3.9.11"
  }
 },
 "nbformat": 4,
 "nbformat_minor": 5
}
