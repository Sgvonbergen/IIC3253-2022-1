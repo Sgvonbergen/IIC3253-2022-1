{
 "cells": [
  {
   "cell_type": "markdown",
   "id": "7ec0fa55",
   "metadata": {},
   "source": [
    "# Tarea 1 Pregunta 1\n",
    "\n",
    "En esta tarea definiremos una funcion para romper el esquema criptográfico definido en el enunciado. Esta funcion, break_rp, que podemos ver abajo, recibe 3 valores. cipher es un texto cifrado con el esquema. freq es una lista de frecuencias de las letras del lenguaje del mensaje original. distance es una funcion que calcula la distancia entre dos caracteres.\n",
    "\n",
    "Como no conocemos el largo de la clave, iteraremos linealmente de 1 a el tamaño del mensaje dividido en 50, como especifica el enunciado. En cada iteracion, dependiendo del tamaño de la clave n=len(k) creamos n grupos. dentro de cada unos de estos grupos agregamos las letras del mensaje que fueron codificadas con el caracter i de la llave k. Por ejemplo si tenemos una clave de tamaño 4 y un mensaje:\n",
    "\n",
    "![](image1.png)\n",
    "\n",
    "Grupo0: [E, _, S, _, A, E, _, I, A]\n",
    "\n",
    "Grupo1: [S, M, A, E, _, N, C, F, D]\n",
    "\n",
    "Grupo2: [T, E, J, S, S, D, O, I, O]\n",
    "\n",
    "Grupo3: [E, N, E, T, I, O, D, C]\n",
    "\n",
    "Cada uno de estos grupos deberia tener una frecuencia de letras similar al lenguaje en el que el mensaje esta escrito. Por ejemplo si la letra S tiene una frecuencia de 12.7% lo mas probable es que corresponda a la letra E en el lenguaje ingles. Podemos deducir de esto que E + K_I = S, si codifico E con la clave K entonces recibo S. Asi hemos adivinado el valor de la clave para ese grupo. Repetimos este proceso para todos los grupos y creamos una clave final.\n",
    "\n",
    "Gracias a nuestra funcion de distancia podemos estimar si la clave que conseguimos es apropiada al comparar la frecuencia del mensaje decifrado con la frencuencia que nos entregaron. Si la distancia es pequeña entonces es probable que la llave sea la correcta y hallamos logrado decifrar el texto."
   ]
  },
  {
   "cell_type": "code",
   "execution_count": 117,
   "id": "a0caef04",
   "metadata": {},
   "outputs": [],
   "source": [
    "def break_rp(cipher: str, freq: dict[str, float], distance: callable) -> str:\n",
    "    # Creamos un diccionario con todas los caracteres del lenguaje entregado\n",
    "    # y reducimos las frecuencias a 0. Podemos copiar este en el futuro para\n",
    "    # definir nuevos diccionarios de frecuencia vacios.\n",
    "    lang = get_alphabet(freq)\n",
    "    empty_freq_dict = freq.copy()\n",
    "    for k in empty_freq_dict.keys():\n",
    "        empty_freq_dict[k] = 0\n",
    "    most_freq_letter = max(freq, key= lambda i: freq[i])\n",
    "\n",
    "    # El largo de la clave es desconocido. Iteraremos desde largo 1 en adelante\n",
    "    key_length = 1\n",
    "    best_key = []\n",
    "    best_distance = -1\n",
    "    \n",
    "    while key_length <= len(cipher)//50:\n",
    "        # Creamos una lista de frecuencias y una lista de caracteres para cada\n",
    "        # uno de los caracteres de la llave. Despues compararemos la distacia\n",
    "        # para encontrar el caracter en la llave correspondiente\n",
    "        N = len(freq)\n",
    "        key = [\"\" for i in range(key_length)]\n",
    "        list_of_freqs = [empty_freq_dict.copy() for i in range(key_length)]\n",
    "        character_strings = [list() for i in range(key_length)]\n",
    "        for i in range(len(cipher)):\n",
    "            list_of_freqs[i%key_length][cipher[i]] += 1\n",
    "            character_strings[i%key_length].append(cipher[i])\n",
    "        # Una vez creados los grupos, elegimos la letra mas frecuente del grupo y del lenguaje \n",
    "        # Asumimos que la diferencia entre esas letras es el valor de la clave.\n",
    "        for i in range(key_length):\n",
    "            most_freq_in_group = max(list_of_freqs[i], key= lambda k: list_of_freqs[i][k])\n",
    "            key[i] = lang[mod(lang.index(most_freq_in_group) - lang.index(most_freq_letter), N)]\n",
    "        \n",
    "        # Una vez creada una clave, deciframos el mensaje y evaluamos la frecuencia de las letras\n",
    "        # en ese mensaje con la frecuencia entregada. Si es pequeña, entonces elegimos una buena clave\n",
    "        # si no, seguimos iterando con una llave de mayor largo.\n",
    "        message = dec(cipher, \"\".join(key), lang)\n",
    "        dist = distance(message, freq)\n",
    "        if best_distance < 0 or dist < best_distance:\n",
    "            best_distance = dist\n",
    "            best_key = key\n",
    "        key_length += 1\n",
    "    return dec(cipher, \"\".join(best_key), lang)"
   ]
  },
  {
   "cell_type": "markdown",
   "id": "98457e1d",
   "metadata": {},
   "source": [
    "La funcion de distancia que utilizaremos es similar a la vista en clases. Además definiremos varias funciones auxiliares."
   ]
  },
  {
   "cell_type": "code",
   "execution_count": 118,
   "id": "6f135ba6",
   "metadata": {},
   "outputs": [],
   "source": [
    "def abs_distance ( string : str , frequencies : dict[str, float]) -> float :\n",
    "    \"\"\"\n",
    "    Arguments :\n",
    "    string : An abritrary string\n",
    "    frequencies : A dictionary representing a character frequency\n",
    "    Returns :\n",
    "    distance : How distant is the string from the character frequency\n",
    "    \"\"\"\n",
    "    alphabet = get_alphabet(frequencies)\n",
    "    string_freq = dict.fromkeys(alphabet, 0)\n",
    "    for c in string:\n",
    "        string_freq[c] += 1\n",
    "    \n",
    "    distance = 0\n",
    "    for l in alphabet:\n",
    "        distance += abs(frequencies[l] - string_freq[l])\n",
    "\n",
    "    return distance"
   ]
  },
  {
   "cell_type": "code",
   "execution_count": 119,
   "id": "08755e69",
   "metadata": {},
   "outputs": [],
   "source": [
    "def enc(m: str, k: str, alphabet: list[str]):\n",
    "    c = \"\"\n",
    "    key_length = len(k)\n",
    "    for i in range(len(m)):\n",
    "        m_pos = alphabet.index(m[i])\n",
    "        k_pos = alphabet.index(k[mod(i, key_length)])\n",
    "        c_pos = mod(m_pos + k_pos, len(alphabet))\n",
    "        c += alphabet[c_pos]\n",
    "    return c\n",
    "\n",
    "\n",
    "def dec(c: str, k: str, alphabet: list[str]):\n",
    "    m = \"\"\n",
    "    key_length = len(k)\n",
    "    for i in range(len(c)):\n",
    "        c_pos = alphabet.index(c[i])\n",
    "        k_pos = alphabet.index(k[i % key_length])\n",
    "        m_pos = mod(c_pos - k_pos, len(alphabet))\n",
    "        m += alphabet[m_pos]\n",
    "    return m\n",
    "\n",
    "\n",
    "def get_alphabet(freq: dict[(str, float)]):\n",
    "    return [k for k in freq.keys()]\n",
    "\n",
    "\n",
    "def mod(a, n):\n",
    "    ret = a\n",
    "    while ret >= n:\n",
    "        ret -= n\n",
    "    while ret < 0:\n",
    "        ret += n\n",
    "    return ret\n",
    "\n"
   ]
  },
  {
   "cell_type": "markdown",
   "id": "7d794220",
   "metadata": {},
   "source": [
    "Veamos un ejemplo. Tomando la frecuencia de letras en el lenguaje ingles, sin simbolos, solo mayusculas."
   ]
  },
  {
   "cell_type": "code",
   "execution_count": 120,
   "id": "d8bc856d",
   "metadata": {},
   "outputs": [
    {
     "name": "stdout",
     "output_type": "stream",
     "text": [
      "HELLOTHISISAMESSAGEINALLCAPSWEDONTHAVEANYOTHERMORECHARACTERSOTHERTHANCAPSLETTERSWEHAVETOKEEPWRITINGINENGLISHFORTHISFREQUENCYDISTRIBUTIONTOGUESSTHEKEYCORRECTLYTHISISANENGLISHWORDTHEDISTANCE\n"
     ]
    }
   ],
   "source": [
    "letterFrequency = {\n",
    "    'E' : 12.0,\n",
    "    'T' : 9.10,\n",
    "    'A' : 8.12,\n",
    "    'O' : 7.68,\n",
    "    'I' : 7.31,\n",
    "    'N' : 6.95,\n",
    "    'S' : 6.28,\n",
    "    'R' : 6.02,\n",
    "    'H' : 5.92,\n",
    "    'D' : 4.32,\n",
    "    'L' : 3.98,\n",
    "    'U' : 2.88,\n",
    "    'C' : 2.71,\n",
    "    'M' : 2.61,\n",
    "    'F' : 2.30,\n",
    "    'Y' : 2.11,\n",
    "    'W' : 2.09,\n",
    "    'G' : 2.03,\n",
    "    'P' : 1.82,\n",
    "    'B' : 1.49,\n",
    "    'V' : 1.11,\n",
    "    'K' : 0.69,\n",
    "    'X' : 0.17,\n",
    "    'Q' : 0.11,\n",
    "    'J' : 0.10,\n",
    "    'Z' : 0.07 \n",
    "}\n",
    "\n",
    "m = \"HELLOTHISISAMESSAGEINALLCAPSWEDONTHAVEANYOTHERMORECHARACTERSOTHERTHANCAPSLETTERSWEHAVETOKEEPWRITINGINENGLISHFORTHISFREQUENCYDISTRIBUTIONTOGUESSTHEKEYCORRECTLYTHISISANENGLISHWORDTHEDISTANCE\"\n",
    "key = \"ABC\"\n",
    "c = enc(m, key, get_alphabet(letterFrequency))\n",
    "\n",
    "print(break_rp(c, letterFrequency, abs_distance))"
   ]
  }
 ],
 "metadata": {
  "kernelspec": {
   "display_name": "Python 3",
   "language": "python",
   "name": "python3"
  },
  "language_info": {
   "codemirror_mode": {
    "name": "ipython",
    "version": 3
   },
   "file_extension": ".py",
   "mimetype": "text/x-python",
   "name": "python",
   "nbconvert_exporter": "python",
   "pygments_lexer": "ipython3",
   "version": "3.10.4"
  }
 },
 "nbformat": 4,
 "nbformat_minor": 5
}
