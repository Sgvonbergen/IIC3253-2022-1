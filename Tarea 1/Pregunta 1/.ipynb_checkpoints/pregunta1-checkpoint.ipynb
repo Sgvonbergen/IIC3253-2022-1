{
 "cells": [
  {
   "cell_type": "code",
   "execution_count": null,
   "id": "f7b6a4f7",
   "metadata": {},
   "outputs": [],
   "source": [
    "def break_rp(cipher, freq, distance):\n",
    "    return 1"
   ]
  }
 ],
 "metadata": {
  "kernelspec": {
   "display_name": "Python 3",
   "language": "python",
   "name": "python3"
  }
 },
 "nbformat": 4,
 "nbformat_minor": 5
}
