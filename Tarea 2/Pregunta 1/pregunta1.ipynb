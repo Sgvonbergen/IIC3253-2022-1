{
 "cells": [
  {
   "cell_type": "markdown",
   "metadata": {},
   "source": [
    "## Pregunta 1\n",
    "Para esta pregunta vamos a definir tres funciones que implementan los conceptos vistos en clases con el objetivo de crear una función de hash resistente a colisiones. En esta implementacion para mensajes, cifrados y hashes se utilizara el tipo bytearray."
   ]
  },
  {
   "cell_type": "markdown",
   "metadata": {},
   "source": [
    "### Davies-Meyer\n",
    "\n",
    "Esta es una funcion de compresion basada en el esquema davies_meyer. La propiedad más importante de esta construcción es que si el esquema criptografico que se esta utilizando es ideal, la compresion es resistente a colisiones."
   ]
  },
  {
   "cell_type": "code",
   "execution_count": 143,
   "metadata": {},
   "outputs": [],
   "source": [
    "def davies_meyer(encrypt: callable, l_key: int, l_message: int) -> callable:\n",
    "    def comp(message: bytearray) -> bytearray:\n",
    "        mess = bytearray(message[:l_message])\n",
    "        k = bytearray(message[l_message:l_message + l_key])\n",
    "        H = encrypt(k, mess)\n",
    "        new_message = bytearray([a ^ b for a, b in zip(mess, H)])\n",
    "        return new_message\n",
    "    return comp"
   ]
  },
  {
   "cell_type": "markdown",
   "metadata": {},
   "source": [
    "### Padding\n",
    "\n",
    "Esta función recibe un mensaje de largo arbitrario y hace dos cosas. Añade caracteres para que el largo del mensaje sea divisible en el tamaño de los bloques. También añade un bloque al final con el largo del mensaje original. En esta funcion de pad, el mensaje m es siempre prefijo de pad(m). Dados dos mensajes m1, m2, si tienen el mismo largo, el ultimo bloque de pad(m1) y pad(m2) es identico. Si tienen largo distinto, el ultimo bloque también tiene que ser distinto."
   ]
  },
  {
   "cell_type": "code",
   "execution_count": 144,
   "metadata": {},
   "outputs": [],
   "source": [
    "def pad(message: bytearray, l_block: int) -> bytearray:\n",
    "    new_message = message\n",
    "    mes_length = bytearray(len(message).to_bytes(l_block, \"big\"))\n",
    "    diff = len(message) % l_block\n",
    "    if diff != 0:\n",
    "        new_message += bytearray(int(1).to_bytes(1, \"big\"))\n",
    "        for _ in range(1, l_block - diff):\n",
    "            new_message += bytearray(int(0).to_bytes(1, \"big\"))\n",
    "\n",
    "    new_message += mes_length\n",
    "    return bytearray(new_message)\n"
   ]
  },
  {
   "cell_type": "markdown",
   "metadata": {},
   "source": [
    "### Merkle-Damgard\n",
    "\n",
    "Esta función implementa el esquema merkle_damgard para crea una función de hash resistente a colisiones. Para esto necesita un vector de inicializacion, una funcion de compresión y el largo del hash requerido. Esta funcion de hash recibe mensajes de largo arbitrario, utiliza la funcion de pad para normalizar su largo. Después utiliza la funcion de compresión para comprimir el mensaje original bloque por bloque hasta llegar a un texto final del largo requerido.\n",
    "\n",
    "Para que esta función de hash creada sea resistente a colisiones, se necesita que la funcion de compresion sea criptograficamente segura. También requiere que la funcion de pad sea consistente, es decir, que para mensajes de largo igual, el ultimo bloque sea identico y que para el caso contrario, el ultimo bloque sea distinto y que el mensaje es prefijo del padding."
   ]
  },
  {
   "cell_type": "code",
   "execution_count": 145,
   "metadata": {},
   "outputs": [],
   "source": [
    "def merkle_damgard(IV: bytearray, comp: callable, l_block: int) -> bytearray:\n",
    "    def hash(message: bytearray) -> bytearray:\n",
    "        new_mess = pad(message, l_block)\n",
    "        H = IV\n",
    "        blocks = len(new_mess) // l_block\n",
    "        for i in range(blocks):\n",
    "            block = new_mess[l_block * i: l_block * (i + 1)]\n",
    "            H = comp(bytearray(H + block))\n",
    "        return H\n",
    "    return hash"
   ]
  },
  {
   "cell_type": "markdown",
   "metadata": {},
   "source": [
    "### Funciones de encriptación de prueba\n",
    "\n",
    "Para probar nuestras funciones utilizaremos el algoritmo de encriptacion AES128 que utiliza mensajes y llaves de 16 bits"
   ]
  },
  {
   "cell_type": "code",
   "execution_count": 146,
   "metadata": {},
   "outputs": [
    {
     "name": "stdout",
     "output_type": "stream",
     "text": [
      "Requirement already satisfied: pycryptodome in /Users/sebasthianvonbergen/.pyenv/versions/3.9.11/lib/python3.9/site-packages (3.14.1)\n",
      "\u001b[33mWARNING: You are using pip version 22.0.4; however, version 22.1.2 is available.\n",
      "You should consider upgrading via the '/Users/sebasthianvonbergen/.pyenv/versions/3.9.11/bin/python -m pip install --upgrade pip' command.\u001b[0m\u001b[33m\n",
      "\u001b[0mNote: you may need to restart the kernel to use updated packages.\n"
     ]
    }
   ],
   "source": [
    "\n",
    "if __name__ == \"__main__\":\n",
    "    pass\n",
    "    #%pip install pycryptodome"
   ]
  },
  {
   "cell_type": "code",
   "execution_count": 147,
   "metadata": {},
   "outputs": [],
   "source": [
    "if __name__ == \"__main__\":\n",
    "    from Crypto.Cipher import AES"
   ]
  },
  {
   "cell_type": "code",
   "execution_count": 148,
   "metadata": {},
   "outputs": [],
   "source": [
    "if __name__ == \"__main__\":\n",
    "    def test_encrypt(key: bytearray, message: bytearray) -> bytearray:\n",
    "        new_message = bytearray([(a+1) ^ (b+1) for a, b in zip(key, message)])\n",
    "        return new_message\n",
    "\n",
    "    def aes_128(key: bytearray, message: bytearray) -> bytearray:\n",
    "        a = AES.new(key, AES.MODE_ECB)\n",
    "        return bytearray(a.encrypt(message))"
   ]
  },
  {
   "cell_type": "code",
   "execution_count": 149,
   "metadata": {},
   "outputs": [
    {
     "name": "stdout",
     "output_type": "stream",
     "text": [
      "True bytearray(b'\\xe9\\xe8\\xac\\x12\\\\\\xf2\\xc8\\x16\\xceOV\\xc5Y.T\\xea')\n",
      "True bytearray(b'\\xb6\\xfb\\xc6a\\x12\\xae\\x95\\x1f\\xda\\xc5\\x13\\xde\\x06|Q\\x96')\n",
      "True bytearray(b'\\xc5\\xec\\xcdd\\xa4(R*\\xf0L*QtL\\xda\\x81')\n",
      "True bytearray(b'p\\xca \\xd8\\x9c\\xeb\\xe6\\xb1\\xce\\xcf\\x03\\xb2\\x9e\\x93\\x19\\xbc')\n"
     ]
    }
   ],
   "source": [
    "if __name__ == \"__main__\":\n",
    "\n",
    "    comp_test = davies_meyer(test_encrypt, 16, 16)\n",
    "    comp_aes = davies_meyer(aes_128, 16, 16)\n",
    "    hash = merkle_damgard(bytearray(b\"1234567890123456\"), comp_aes, 16)\n",
    "    s1 = bytearray(b'Este es un mensaje de prueba para la tarea 2')\n",
    "    s2 = bytearray(b'Este es un mensaje de Prueba para la tarea 2')\n",
    "    s3 = bytearray(b'Un mensaje corto')\n",
    "    s4 = bytearray(b'')\n",
    "\n",
    "    h1 = hash(s1)\n",
    "    h2 = hash(s2)\n",
    "    h3 = hash(s3)\n",
    "    h4 = hash(s4)\n",
    "\n",
    "    expectedh1 = bytearray(b'\\xe9\\xe8\\xac\\x12\\\\\\xf2\\xc8\\x16\\xceOV\\xc5Y.T\\xea')\n",
    "    expectedh2 = bytearray(b'\\xb6\\xfb\\xc6a\\x12\\xae\\x95\\x1f\\xda\\xc5\\x13\\xde\\x06|Q\\x96')\n",
    "    expectedh3 = bytearray(b'\\xc5\\xec\\xcdd\\xa4(R*\\xf0L*QtL\\xda\\x81')\n",
    "    expectedh4 = bytearray(b'p\\xca \\xd8\\x9c\\xeb\\xe6\\xb1\\xce\\xcf\\x03\\xb2\\x9e\\x93\\x19\\xbc')\n",
    "\n",
    "    print(h1 == expectedh1, h1)\n",
    "    print(h2 == expectedh2, h2)\n",
    "    print(h3 == expectedh3, h3)\n",
    "    print(h4 == expectedh4, h4)"
   ]
  }
 ],
 "metadata": {
  "interpreter": {
   "hash": "608fffa85707ae051ca2e77aefe04004454455bf2bdea15617f0e4d6e8d23f95"
  },
  "kernelspec": {
   "display_name": "Python 3.9.11 64-bit ('3.9.11')",
   "language": "python",
   "name": "python3"
  },
  "language_info": {
   "codemirror_mode": {
    "name": "ipython",
    "version": 3
   },
   "file_extension": ".py",
   "mimetype": "text/x-python",
   "name": "python",
   "nbconvert_exporter": "python",
   "pygments_lexer": "ipython3",
   "version": "3.9.11"
  },
  "orig_nbformat": 4
 },
 "nbformat": 4,
 "nbformat_minor": 2
}
